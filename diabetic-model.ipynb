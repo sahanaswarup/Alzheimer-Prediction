{
 "cells": [
  {
   "cell_type": "code",
   "execution_count": 1,
   "metadata": {
    "collapsed": false
   },
   "outputs": [
    {
     "name": "stdout",
     "output_type": "stream",
     "text": [
      "/home/ubuntu/Notebook\r\n"
     ]
    }
   ],
   "source": [
    "!pwd"
   ]
  },
  {
   "cell_type": "code",
   "execution_count": 2,
   "metadata": {
    "collapsed": false
   },
   "outputs": [
    {
     "name": "stdout",
     "output_type": "stream",
     "text": [
      "diabetic-model.ipynb\r\n"
     ]
    }
   ],
   "source": [
    "!ls"
   ]
  },
  {
   "cell_type": "code",
   "execution_count": 3,
   "metadata": {
    "collapsed": false
   },
   "outputs": [
    {
     "name": "stderr",
     "output_type": "stream",
     "text": [
      "Using TensorFlow backend.\n"
     ]
    }
   ],
   "source": [
    "import os\n",
    "os.environ[\"CUDA_DEVICE_ORDER\"] = \"PCI_BUS_ID\"\n",
    "os.environ[\"CUDA_VISIBLE_DEVICES\"] = \"\"\n",
    "import pandas as pd\n",
    "import numpy as np\n",
    "# from medpy.io import load\n",
    "from matplotlib import pyplot as plt\n",
    "import glob\n",
    "import cv2\n",
    "\n",
    "import sklearn.metrics as sklm\n",
    "\n",
    "from keras.applications.vgg16 import VGG16\n",
    "from keras.applications.vgg19 import VGG19\n",
    "from keras.applications.resnet50 import ResNet50\n",
    "from keras.preprocessing import image\n",
    "from keras.optimizers import SGD\n",
    "from keras.applications.vgg16 import preprocess_input\n",
    "from keras.layers import Input, Flatten, Dense\n",
    "from keras.models import Model\n",
    "\n",
    "import scipy\n",
    "import matplotlib.image as mpimg\n",
    "from scipy.misc import imread\n",
    "\n",
    "%matplotlib inline"
   ]
  },
  {
   "cell_type": "code",
   "execution_count": 15,
   "metadata": {
    "collapsed": true
   },
   "outputs": [],
   "source": [
    "rootDir = \"/home/ubuntu/Yang_Sahana/train\"\n",
    "Use_Model = \"ResNet\" #\"ResNet\" or \"VGGNet\"\n",
    "image_size = 512"
   ]
  },
  {
   "cell_type": "code",
   "execution_count": 11,
   "metadata": {
    "collapsed": false
   },
   "outputs": [],
   "source": [
    "resize_128_dir = \"/home/ubuntu/final_data/train/128\"\n",
    "# Create directory for 128x128 resize\n",
    "try:\n",
    "    os.stat(resize_128_dir)\n",
    "except:\n",
    "    os.makedirs(resize_128_dir)\n",
    "    \n",
    "resize_256_dir = \"/home/ubuntu/final_data/train/256\"\n",
    "# Create directory for 256x256 resize\n",
    "try:\n",
    "    os.stat(resize_256_dir)\n",
    "except:\n",
    "    os.makedirs(resize_256_dir)\n",
    "\n",
    "resize_512_dir = \"/home/ubuntu/final_data/train/512\"\n",
    "# Create directory for 512x512 resize\n",
    "try:\n",
    "    os.stat(resize_512_dir)\n",
    "except:\n",
    "    os.makedirs(resize_512_dir)"
   ]
  },
  {
   "cell_type": "code",
   "execution_count": 12,
   "metadata": {
    "collapsed": false
   },
   "outputs": [
    {
     "data": {
      "text/html": [
       "<div>\n",
       "<table border=\"1\" class=\"dataframe\">\n",
       "  <thead>\n",
       "    <tr style=\"text-align: right;\">\n",
       "      <th></th>\n",
       "      <th>image</th>\n",
       "      <th>level</th>\n",
       "    </tr>\n",
       "  </thead>\n",
       "  <tbody>\n",
       "    <tr>\n",
       "      <th>0</th>\n",
       "      <td>10_left</td>\n",
       "      <td>0</td>\n",
       "    </tr>\n",
       "    <tr>\n",
       "      <th>1</th>\n",
       "      <td>10_right</td>\n",
       "      <td>0</td>\n",
       "    </tr>\n",
       "    <tr>\n",
       "      <th>2</th>\n",
       "      <td>13_left</td>\n",
       "      <td>0</td>\n",
       "    </tr>\n",
       "    <tr>\n",
       "      <th>3</th>\n",
       "      <td>13_right</td>\n",
       "      <td>0</td>\n",
       "    </tr>\n",
       "    <tr>\n",
       "      <th>4</th>\n",
       "      <td>15_left</td>\n",
       "      <td>1</td>\n",
       "    </tr>\n",
       "    <tr>\n",
       "      <th>5</th>\n",
       "      <td>15_right</td>\n",
       "      <td>2</td>\n",
       "    </tr>\n",
       "    <tr>\n",
       "      <th>6</th>\n",
       "      <td>16_left</td>\n",
       "      <td>4</td>\n",
       "    </tr>\n",
       "    <tr>\n",
       "      <th>7</th>\n",
       "      <td>16_right</td>\n",
       "      <td>4</td>\n",
       "    </tr>\n",
       "    <tr>\n",
       "      <th>8</th>\n",
       "      <td>17_left</td>\n",
       "      <td>0</td>\n",
       "    </tr>\n",
       "    <tr>\n",
       "      <th>9</th>\n",
       "      <td>17_right</td>\n",
       "      <td>1</td>\n",
       "    </tr>\n",
       "  </tbody>\n",
       "</table>\n",
       "</div>"
      ],
      "text/plain": [
       "      image  level\n",
       "0   10_left      0\n",
       "1  10_right      0\n",
       "2   13_left      0\n",
       "3  13_right      0\n",
       "4   15_left      1\n",
       "5  15_right      2\n",
       "6   16_left      4\n",
       "7  16_right      4\n",
       "8   17_left      0\n",
       "9  17_right      1"
      ]
     },
     "execution_count": 12,
     "metadata": {},
     "output_type": "execute_result"
    }
   ],
   "source": [
    "# read the labels\n",
    "labels = pd.read_csv('/home/ubuntu/trainLabels.csv')\n",
    "labels.head(10)"
   ]
  },
  {
   "cell_type": "code",
   "execution_count": 13,
   "metadata": {
    "collapsed": false
   },
   "outputs": [
    {
     "data": {
      "text/plain": [
       "<matplotlib.axes._subplots.AxesSubplot at 0x7ff67cf910d0>"
      ]
     },
     "execution_count": 13,
     "metadata": {},
     "output_type": "execute_result"
    },
    {
     "data": {
      "image/png": "[encoded data removed]",
      "text/plain": [
       "<matplotlib.figure.Figure at 0x7ff67cea5b90>"
      ]
     },
     "metadata": {},
     "output_type": "display_data"
    }
   ],
   "source": [
    "# class imbalance\n",
    "labels['level'].value_counts().plot(kind='bar')\n",
    "\n",
    "# Notes:\n",
    "# 5 labels present - 0 to 4"
   ]
  },
  {
   "cell_type": "code",
   "execution_count": 16,
   "metadata": {
    "collapsed": false
   },
   "outputs": [
    {
     "name": "stdout",
     "output_type": "stream",
     "text": [
      "/home/ubuntu/final_data/train/512\n",
      "(1720, 512, 512, 3)\n",
      "(1720, 5)\n",
      "(1073, 512, 512, 3)\n",
      "(1073, 5)\n"
     ]
    }
   ],
   "source": [
    "x_train_list = []\n",
    "y_train_list = []\n",
    "x_val_list = []\n",
    "y_val_list = []\n",
    "\n",
    "train_percent = 0.6 # 60% train\n",
    "if image_size == 128:\n",
    "    Image_File_Path = resize_128_dir\n",
    "elif image_size == 256:\n",
    "    Image_File_Path = resize_256_dir\n",
    "else:\n",
    "    Image_File_Path = resize_512_dir\n",
    "        \n",
    "for index, row in labels.iterrows():\n",
    "    try:\n",
    "        img_data = np.fromfile(Image_File_Path + '/' + row['image'] + '.data', dtype='uint8', sep=\"\")\n",
    "    except:\n",
    "        continue\n",
    "\n",
    "    img_data = img_data.reshape([image_size, image_size, 3])\n",
    "    \n",
    "    rand_no = np.random.rand()\n",
    "    if rand_no <= train_percent:\n",
    "        x_list = x_train_list\n",
    "        y_list = y_train_list\n",
    "    else:\n",
    "        x_list = x_val_list\n",
    "        y_list = y_val_list\n",
    "        \n",
    "    if row['level'] == 0:\n",
    "        y_list.append([1, 0, 0, 0, 0])\n",
    "    elif row['level'] == 1:\n",
    "        y_list.append([0, 1, 0, 0, 0])\n",
    "    elif row['level'] == 2:\n",
    "        y_list.append([0, 0, 1, 0, 0])\n",
    "    elif row['level'] == 3:\n",
    "        y_list.append([0, 0, 0, 1, 0])\n",
    "    elif row['level'] == 4:\n",
    "        y_list.append([0, 0, 0, 0, 1])\n",
    "    else:\n",
    "        continue\n",
    "    \n",
    "    x_list.append(img_data)\n",
    "\n",
    "x_train = np.array(x_train_list)\n",
    "y_train = np.array(y_train_list)\n",
    "print x_train.shape\n",
    "print y_train.shape\n",
    "\n",
    "x_val = np.array(x_val_list)\n",
    "y_val = np.array(y_val_list)\n",
    "print x_val.shape\n",
    "print y_val.shape\n",
    "\n"
   ]
  },
  {
   "cell_type": "code",
   "execution_count": 17,
   "metadata": {
    "collapsed": true
   },
   "outputs": [],
   "source": [
    "# Function for VGGNet\n",
    "def VGGNet_model(input_shape, num_classes, use_sgd=False):\n",
    "    model_vgg19_conv = VGG19(weights='imagenet', include_top=False)\n",
    "    model_vgg19_conv.summary()\n",
    "    \n",
    "#    for layer in model_vgg16_conv.layers:\n",
    "#        layer.trainable = False\n",
    "\n",
    "    # Create your own input format\n",
    "    input = Input(shape=input_shape, name = 'image_input')\n",
    "    \n",
    "    # Use the generated model \n",
    "    output_vgg19_conv = model_vgg19_conv(input)\n",
    "  \n",
    "    \n",
    "    # Add the fully-connected layers \n",
    "    x = Flatten(name='flatten')(output_vgg19_conv)\n",
    "    x = Dense(4096, activation='relu', name='fc1')(x)\n",
    "    x = Dense(4096, activation='relu', name='fc2')(x)\n",
    "    x = Dense(1000, activation='relu', name='fc3')(x)\n",
    "\n",
    "    x = Dense(num_classes, activation='softmax', name='predictions')(x)\n",
    "    \n",
    "    # Create model \n",
    "    AD_model = Model(input=input, output=x)\n",
    "    AD_model.summary()\n",
    "\n",
    "    # Compile model\n",
    "    if not use_sgd:\n",
    "        AD_model.compile(loss='categorical_crossentropy', optimizer='adam', metrics=['accuracy'])\n",
    "        print \"using adam optimizer\"\n",
    "    else:\n",
    "        sgd = SGD(lr=0.01, momentum=0.8, decay=0.000001, nesterov=False)\n",
    "        AD_model.compile(loss='binary_crossentropy', optimizer=sgd, metrics=[ 'accuracy' ])\n",
    "        print \"using SGD optimizer\"\n",
    "    \n",
    "    return AD_model"
   ]
  },
  {
   "cell_type": "code",
   "execution_count": 18,
   "metadata": {
    "collapsed": true
   },
   "outputs": [],
   "source": [
    "# Function for resnet\n",
    "def ResNet_model(input_shape, num_classes, use_sgd=False):\n",
    "    model_resnet_conv = ResNet50(weights='imagenet', include_top=False)\n",
    "    \n",
    "#    for layer in model_vgg16_conv.layers:\n",
    "#        layer.trainable = False\n",
    "\n",
    "    # Create your own input format\n",
    "    input = Input(shape=input_shape, name = 'image_input')\n",
    "    \n",
    "    # Use the generated model \n",
    "    output_resnet_conv = model_resnet_conv(input)\n",
    "    \n",
    "    # Add the fully-connected layers \n",
    "    x = Flatten(name='flatten')(output_resnet_conv)\n",
    "    x = Dense(4096, activation='relu', name='fc1')(x)\n",
    "    x = Dense(4096, activation='relu', name='fc2')(x)\n",
    "\n",
    "    x = Dense(num_classes, activation='softmax', name='predictions')(x)\n",
    "    \n",
    "    # Create model \n",
    "    AD_model = Model(input=input, output=x)\n",
    "    AD_model.summary()\n",
    "\n",
    "    # Compile model\n",
    "    if not use_sgd:\n",
    "        AD_model.compile(loss='categorical_crossentropy', optimizer='adam', metrics=['accuracy'])\n",
    "        print \"using adam optimizer\"\n",
    "    else:\n",
    "        sgd = SGD(lr=0.01, momentum=0.8, decay=0.000001, nesterov=False)\n",
    "        AD_model.compile(loss='binary_crossentropy', optimizer=sgd, metrics=[ 'accuracy' ])\n",
    "        print \"using SGD optimizer\"\n",
    "    \n",
    "    return AD_model"
   ]
  },
  {
   "cell_type": "code",
   "execution_count": 19,
   "metadata": {
    "collapsed": false
   },
   "outputs": [
    {
     "name": "stdout",
     "output_type": "stream",
     "text": [
      "Using ResNet\n"
     ]
    },
    {
     "name": "stderr",
     "output_type": "stream",
     "text": [
      "/home/ubuntu/anaconda2/lib/python2.7/site-packages/ipykernel/__main__.py:22: UserWarning: Update your `Model` call to the Keras 2 API: `Model(outputs=Tensor(\"pr..., inputs=Tensor(\"im...)`\n"
     ]
    },
    {
     "name": "stdout",
     "output_type": "stream",
     "text": [
      "_________________________________________________________________\n",
      "Layer (type)                 Output Shape              Param #   \n",
      "=================================================================\n",
      "image_input (InputLayer)     (None, 512, 512, 3)       0         \n",
      "_________________________________________________________________\n",
      "resnet50 (Model)             multiple                  23587712  \n",
      "_________________________________________________________________\n",
      "flatten (Flatten)            (None, 8192)              0         \n",
      "_________________________________________________________________\n",
      "fc1 (Dense)                  (None, 4096)              33558528  \n",
      "_________________________________________________________________\n",
      "fc2 (Dense)                  (None, 4096)              16781312  \n",
      "_________________________________________________________________\n",
      "predictions (Dense)          (None, 5)                 20485     \n",
      "=================================================================\n",
      "Total params: 73,948,037\n",
      "Trainable params: 73,894,917\n",
      "Non-trainable params: 53,120\n",
      "_________________________________________________________________\n",
      "using SGD optimizer\n",
      "_________________________________________________________________\n",
      "Layer (type)                 Output Shape              Param #   \n",
      "=================================================================\n",
      "image_input (InputLayer)     (None, 512, 512, 3)       0         \n",
      "_________________________________________________________________\n",
      "resnet50 (Model)             multiple                  23587712  \n",
      "_________________________________________________________________\n",
      "flatten (Flatten)            (None, 8192)              0         \n",
      "_________________________________________________________________\n",
      "fc1 (Dense)                  (None, 4096)              33558528  \n",
      "_________________________________________________________________\n",
      "fc2 (Dense)                  (None, 4096)              16781312  \n",
      "_________________________________________________________________\n",
      "predictions (Dense)          (None, 5)                 20485     \n",
      "=================================================================\n",
      "Total params: 73,948,037\n",
      "Trainable params: 73,894,917\n",
      "Non-trainable params: 53,120\n",
      "_________________________________________________________________\n"
     ]
    }
   ],
   "source": [
    "if Use_Model == \"ResNet\":\n",
    "    print \"Using ResNet\"\n",
    "    my_model = ResNet_model((image_size,image_size,3), 5, use_sgd=True)\n",
    "else:\n",
    "    print \"Using VGGNet\"\n",
    "    my_model= VGGNet_model((image_size,image_size,3), 5, use_sgd=True)\n",
    "my_model.summary()"
   ]
  },
  {
   "cell_type": "code",
   "execution_count": null,
   "metadata": {
    "collapsed": false
   },
   "outputs": [
    {
     "name": "stdout",
     "output_type": "stream",
     "text": [
      "Train on 1720 samples, validate on 1073 samples\n",
      "Epoch 1/1\n"
     ]
    }
   ],
   "source": [
    "# Fit the model\n",
    "my_model.fit(x_train, y_train, epochs=1, batch_size=50, validation_data=(x_val, y_val), verbose=1)"
   ]
  },
  {
   "cell_type": "code",
   "execution_count": null,
   "metadata": {
    "collapsed": true
   },
   "outputs": [],
   "source": [
    "# Final evaluation of the model\n",
    "#scores = my_model.evaluate(x_test, y_test, verbose=0)\n",
    "#print(\"CNN Error: %.2f%%\" % (100-scores[1]*100))"
   ]
  },
  {
   "cell_type": "code",
   "execution_count": null,
   "metadata": {
    "collapsed": true
   },
   "outputs": [],
   "source": []
  }
 ],
 "metadata": {
  "anaconda-cloud": {},
  "kernelspec": {
   "display_name": "Python [default]",
   "language": "python",
   "name": "python2"
  },
  "language_info": {
   "codemirror_mode": {
    "name": "ipython",
    "version": 2
   },
   "file_extension": ".py",
   "mimetype": "text/x-python",
   "name": "python",
   "nbconvert_exporter": "python",
   "pygments_lexer": "ipython2",
   "version": "2.7.12"
  }
 },
 "nbformat": 4,
 "nbformat_minor": 1
}
