{
 "cells": [
  {
   "cell_type": "code",
   "execution_count": 8,
   "metadata": {
    "collapsed": false
   },
   "outputs": [
    {
     "name": "stdout",
     "output_type": "stream",
     "text": [
      "/home/ubuntu/Notebook\r\n"
     ]
    }
   ],
   "source": [
    "!pwd"
   ]
  },
  {
   "cell_type": "code",
   "execution_count": 9,
   "metadata": {
    "collapsed": false
   },
   "outputs": [
    {
     "name": "stdout",
     "output_type": "stream",
     "text": [
      "diabetic-Copy1.ipynb  diabetic.ipynb\r\n"
     ]
    }
   ],
   "source": [
    "!ls"
   ]
  },
  {
   "cell_type": "code",
   "execution_count": 10,
   "metadata": {
    "collapsed": false
   },
   "outputs": [],
   "source": [
    "import os\n",
    "os.environ[\"CUDA_DEVICE_ORDER\"] = \"PCI_BUS_ID\"\n",
    "os.environ[\"CUDA_VISIBLE_DEVICES\"] = \"\"\n",
    "import pandas as pd\n",
    "import numpy as np\n",
    "# from medpy.io import load\n",
    "from matplotlib import pyplot as plt\n",
    "import glob\n",
    "import cv2\n",
    "\n",
    "import sklearn.metrics as sklm\n",
    "\n",
    "from keras.applications.vgg16 import VGG16\n",
    "from keras.applications.vgg19 import VGG19\n",
    "from keras.applications.resnet50 import ResNet50\n",
    "from keras.preprocessing import image\n",
    "from keras.optimizers import SGD\n",
    "from keras.applications.vgg16 import preprocess_input\n",
    "from keras.layers import Input, Flatten, Dense\n",
    "from keras.models import Model\n",
    "\n",
    "import scipy\n",
    "import matplotlib.image as mpimg\n",
    "from scipy.misc import imread\n",
    "\n",
    "%matplotlib inline"
   ]
  },
  {
   "cell_type": "code",
   "execution_count": 11,
   "metadata": {
    "collapsed": true
   },
   "outputs": [],
   "source": [
    "rootDir = \"/home/ubuntu/Yang_Sahana/test\""
   ]
  },
  {
   "cell_type": "code",
   "execution_count": null,
   "metadata": {
    "collapsed": true
   },
   "outputs": [],
   "source": [
    "def CroppedImagev1(filename, CropRectangle = True):\n",
    "    img = mpimg.imread(filename)\n",
    "    height, width, channels = img.shape\n",
    "    if CropRectangle:\n",
    "        if width > height:\n",
    "            delta = width - height\n",
    "            left = int(delta/2)\n",
    "            upper = 0\n",
    "            right = height + left\n",
    "            lower = height\n",
    "        else:\n",
    "            delta = height - width\n",
    "            left = 0\n",
    "            upper = int(delta/2)\n",
    "            right = width\n",
    "            lower = width + upper\n",
    "        img = img[upper:lower, left:right]\n",
    "    plt.imshow(img)\n",
    "    print \"final height, width\", img.shape\n",
    "    return img"
   ]
  },
  {
   "cell_type": "code",
   "execution_count": 32,
   "metadata": {
    "collapsed": true
   },
   "outputs": [],
   "source": [
    "def crop_borders(img_path, threshold=0.01):\n",
    "    img = imread(img_path)\n",
    "    if img.shape == ():\n",
    "        return img\n",
    "\n",
    "    rgb_added = img.sum(axis=2)\n",
    "    mean_px = rgb_added.mean()\n",
    "    std_px = rgb_added.std()\n",
    "    # not using std as it can be very high\n",
    "\n",
    "    col_sum = rgb_added.sum(axis=0)\n",
    "    row_sum = rgb_added.sum(axis=1)\n",
    "\n",
    "    thresh_val = (mean_px)*threshold\n",
    "    col_index = np.where(col_sum > thresh_val*col_sum.shape[0])\n",
    "    row_index = np.where(row_sum > thresh_val*row_sum.shape[0])\n",
    "    hstart, hend = col_index[0][0], col_index[0][-1]\n",
    "    wstart, wend = row_index[0][0], row_index[0][-1]\n",
    "    return img[wstart:wend, hstart:hend]"
   ]
  },
  {
   "cell_type": "code",
   "execution_count": 13,
   "metadata": {
    "collapsed": false
   },
   "outputs": [],
   "source": [
    "resize_128_dir = \"/home/ubuntu/final_data/test/128\"\n",
    "# Create directory for 128x128 resize\n",
    "try:\n",
    "    os.stat(resize_128_dir)\n",
    "except:\n",
    "    os.makedirs(resize_128_dir)\n",
    "    \n",
    "resize_256_dir = \"/home/ubuntu/final_data/test/256\"\n",
    "# Create directory for 256x256 resize\n",
    "try:\n",
    "    os.stat(resize_256_dir)\n",
    "except:\n",
    "    os.makedirs(resize_256_dir)\n",
    "\n",
    "resize_512_dir = \"/home/ubuntu/final_data/test/512\"\n",
    "# Create directory for 512x512 resize\n",
    "try:\n",
    "    os.stat(resize_512_dir)\n",
    "except:\n",
    "    os.makedirs(resize_512_dir)"
   ]
  },
  {
   "cell_type": "code",
   "execution_count": 33,
   "metadata": {
    "collapsed": false,
    "scrolled": true
   },
   "outputs": [],
   "source": [
    "# Creating .data files\n",
    "\n",
    "# Check if all the files are jpeg format\n",
    "# if not, skip it\n",
    "# else, apply crop border function on it\n",
    "# when you convert to .data, the .jpeg is till there in the filename\n",
    "# therefore, replace the .jpeg with ''\n",
    "\n",
    "count = 0\n",
    "for root, dirs, files in os.walk(rootDir):\n",
    "    for fileName in files:\n",
    "        if not fileName.endswith('.jpeg'):\n",
    "            continue\n",
    "        count = count + 1\n",
    "        fileName_new = fileName.replace(\".jpeg\", \"\")\n",
    "        fileName_256 = resize_256_dir + '/' + fileName_new + '.data'\n",
    "        if os.path.isfile(fileName_256):\n",
    "            continue\n",
    "        #print \"count = \", count, \"filename = \", fileName\n",
    "        img = crop_borders(rootDir + '/' + fileName)\n",
    "        if img.shape != ():\n",
    "            img_256 = cv2.resize(img, (256,256))\n",
    "            img_256.tofile(fileName_256, sep=\"\", format='uint8')\n"
   ]
  },
  {
   "cell_type": "code",
   "execution_count": 35,
   "metadata": {
    "collapsed": false
   },
   "outputs": [],
   "source": [
    "# Creating .data files\n",
    "\n",
    "# Check if all the files are jpeg format\n",
    "# if not, skip it\n",
    "# else, apply crop border function on it\n",
    "# when you convert to .data, the .jpeg is till there in the filename\n",
    "# therefore, replace the .jpeg with ''\n",
    "\n",
    "for root, dirs, files in os.walk(rootDir):\n",
    "    for fileName in files:\n",
    "        if not fileName.endswith('.jpeg'):\n",
    "            continue\n",
    "        fileName_new = fileName.replace(\".jpeg\", \"\")\n",
    "        fileName_128 = resize_128_dir + '/' + fileName_new + '.data'\n",
    "        fileName_512 = resize_512_dir + '/' + fileName_new + '.data'\n",
    "        if os.path.isfile(fileName_128) and \\\n",
    "           os.path.isfile(fileName_512):\n",
    "            continue\n",
    "        img = crop_borders(rootDir + '/' + fileName)\n",
    "        if img.shape != ():\n",
    "            img_128 = cv2.resize(img, (128,128))\n",
    "            img_128.tofile(fileName_128, sep=\"\", format='uint8') # write it out as binary\n",
    "            img_512 = cv2.resize(img, (512,512))\n",
    "            img_512.tofile(fileName_512, sep=\"\", format='uint8')"
   ]
  },
  {
   "cell_type": "code",
   "execution_count": null,
   "metadata": {
    "collapsed": true
   },
   "outputs": [],
   "source": []
  }
 ],
 "metadata": {
  "anaconda-cloud": {},
  "kernelspec": {
   "display_name": "Python [default]",
   "language": "python",
   "name": "python2"
  },
  "language_info": {
   "codemirror_mode": {
    "name": "ipython",
    "version": 2
   },
   "file_extension": ".py",
   "mimetype": "text/x-python",
   "name": "python",
   "nbconvert_exporter": "python",
   "pygments_lexer": "ipython2",
   "version": "2.7.12"
  }
 },
 "nbformat": 4,
 "nbformat_minor": 1
}
