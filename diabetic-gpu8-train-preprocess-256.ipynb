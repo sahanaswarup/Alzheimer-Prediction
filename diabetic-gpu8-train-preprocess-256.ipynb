{
 "cells": [
  {
   "cell_type": "code",
   "execution_count": 1,
   "metadata": {
    "collapsed": false
   },
   "outputs": [
    {
     "name": "stdout",
     "output_type": "stream",
     "text": [
      "/home/ubuntu/Notebook\r\n"
     ]
    }
   ],
   "source": [
    "!pwd"
   ]
  },
  {
   "cell_type": "code",
   "execution_count": 2,
   "metadata": {
    "collapsed": false
   },
   "outputs": [
    {
     "name": "stdout",
     "output_type": "stream",
     "text": [
      "diabetic.ipynb\r\n"
     ]
    }
   ],
   "source": [
    "!ls"
   ]
  },
  {
   "cell_type": "code",
   "execution_count": 3,
   "metadata": {
    "collapsed": false
   },
   "outputs": [
    {
     "name": "stderr",
     "output_type": "stream",
     "text": [
      "Using TensorFlow backend.\n"
     ]
    }
   ],
   "source": [
    "import os\n",
    "os.environ[\"CUDA_DEVICE_ORDER\"] = \"PCI_BUS_ID\"\n",
    "os.environ[\"CUDA_VISIBLE_DEVICES\"] = \"\"\n",
    "import pandas as pd\n",
    "import numpy as np\n",
    "# from medpy.io import load\n",
    "from matplotlib import pyplot as plt\n",
    "import glob\n",
    "import cv2\n",
    "\n",
    "import sklearn.metrics as sklm\n",
    "\n",
    "from keras.applications.vgg16 import VGG16\n",
    "from keras.applications.vgg19 import VGG19\n",
    "from keras.applications.resnet50 import ResNet50\n",
    "from keras.preprocessing import image\n",
    "from keras.optimizers import SGD\n",
    "from keras.applications.vgg16 import preprocess_input\n",
    "from keras.layers import Input, Flatten, Dense\n",
    "from keras.models import Model\n",
    "\n",
    "import scipy\n",
    "import matplotlib.image as mpimg\n",
    "from scipy.misc import imread\n",
    "\n",
    "%matplotlib inline"
   ]
  },
  {
   "cell_type": "code",
   "execution_count": 6,
   "metadata": {
    "collapsed": false
   },
   "outputs": [],
   "source": [
    "rootDir = \"/home/ubuntu/Yang_Sahana/train\"\n",
    "ls_file = []\n",
    "for root, dirs, files in os.walk(rootDir):\n",
    "    for fileName in files:\n",
    "        if fileName.endswith('.jpeg'):\n",
    "            ls_file.append(fileName)"
   ]
  },
  {
   "cell_type": "code",
   "execution_count": null,
   "metadata": {
    "collapsed": false
   },
   "outputs": [],
   "source": [
    "len(ls_file)"
   ]
  },
  {
   "cell_type": "code",
   "execution_count": null,
   "metadata": {
    "collapsed": false
   },
   "outputs": [],
   "source": [
    "ls_file[0]"
   ]
  },
  {
   "cell_type": "code",
   "execution_count": null,
   "metadata": {
    "collapsed": false
   },
   "outputs": [],
   "source": []
  },
  {
   "cell_type": "code",
   "execution_count": null,
   "metadata": {
    "collapsed": false
   },
   "outputs": [],
   "source": [
    "img1 = mpimg.imread('sample/' + ls_file[0])\n",
    "img2 = mpimg.imread('sample/' + ls_file[8])"
   ]
  },
  {
   "cell_type": "code",
   "execution_count": null,
   "metadata": {
    "collapsed": false
   },
   "outputs": [],
   "source": [
    "img1.nbytes / 10**6."
   ]
  },
  {
   "cell_type": "code",
   "execution_count": null,
   "metadata": {
    "collapsed": false
   },
   "outputs": [],
   "source": [
    "cv2.resize(img1, (512, 512)).nbytes / 10**6."
   ]
  },
  {
   "cell_type": "code",
   "execution_count": null,
   "metadata": {
    "collapsed": false
   },
   "outputs": [],
   "source": [
    "plt.imshow(img1)"
   ]
  },
  {
   "cell_type": "code",
   "execution_count": null,
   "metadata": {
    "collapsed": false
   },
   "outputs": [],
   "source": [
    "plt.imshow(img2)"
   ]
  },
  {
   "cell_type": "code",
   "execution_count": null,
   "metadata": {
    "collapsed": false
   },
   "outputs": [],
   "source": [
    "img1.shape"
   ]
  },
  {
   "cell_type": "code",
   "execution_count": null,
   "metadata": {
    "collapsed": false
   },
   "outputs": [],
   "source": [
    "img2.shape"
   ]
  },
  {
   "cell_type": "code",
   "execution_count": null,
   "metadata": {
    "collapsed": false
   },
   "outputs": [],
   "source": [
    "width = img1.shape[0]\n",
    "height = img1.shape[1]"
   ]
  },
  {
   "cell_type": "code",
   "execution_count": null,
   "metadata": {
    "collapsed": false
   },
   "outputs": [],
   "source": [
    "x = width/2\n",
    "y = height/2"
   ]
  },
  {
   "cell_type": "code",
   "execution_count": null,
   "metadata": {
    "collapsed": false
   },
   "outputs": [],
   "source": [
    "plt.imshow(img1[:,500:4000,:])"
   ]
  },
  {
   "cell_type": "code",
   "execution_count": null,
   "metadata": {
    "collapsed": true
   },
   "outputs": [],
   "source": [
    "def CroppedImagev1(filename, CropRectangle = True):\n",
    "    img = mpimg.imread(filename)\n",
    "    height, width, channels = img.shape\n",
    "    if CropRectangle:\n",
    "        if width > height:\n",
    "            delta = width - height\n",
    "            left = int(delta/2)\n",
    "            upper = 0\n",
    "            right = height + left\n",
    "            lower = height\n",
    "        else:\n",
    "            delta = height - width\n",
    "            left = 0\n",
    "            upper = int(delta/2)\n",
    "            right = width\n",
    "            lower = width + upper\n",
    "        img = img[upper:lower, left:right]\n",
    "    plt.imshow(img)\n",
    "    print \"final height, width\", img.shape\n",
    "    return img"
   ]
  },
  {
   "cell_type": "code",
   "execution_count": null,
   "metadata": {
    "collapsed": true
   },
   "outputs": [],
   "source": [
    "rgb_added = img.sum(axis=2)"
   ]
  },
  {
   "cell_type": "code",
   "execution_count": null,
   "metadata": {
    "collapsed": false
   },
   "outputs": [],
   "source": [
    "plt.imshow(rgb_added)"
   ]
  },
  {
   "cell_type": "code",
   "execution_count": null,
   "metadata": {
    "collapsed": false
   },
   "outputs": [],
   "source": [
    "rgb_added.max() / 1000"
   ]
  },
  {
   "cell_type": "code",
   "execution_count": null,
   "metadata": {
    "collapsed": false
   },
   "outputs": [],
   "source": [
    "plt.hist(rgb_added.sum(axis=0), bins=20)"
   ]
  },
  {
   "cell_type": "code",
   "execution_count": null,
   "metadata": {
    "collapsed": false
   },
   "outputs": [],
   "source": [
    "img.sum(axis=2).mean()"
   ]
  },
  {
   "cell_type": "code",
   "execution_count": null,
   "metadata": {
    "collapsed": false
   },
   "outputs": [],
   "source": [
    "img.sum(axis=2).std()"
   ]
  },
  {
   "cell_type": "code",
   "execution_count": null,
   "metadata": {
    "collapsed": false
   },
   "outputs": [],
   "source": [
    "mean = np.mean(rgb_added.mean(a))"
   ]
  },
  {
   "cell_type": "code",
   "execution_count": null,
   "metadata": {
    "collapsed": false
   },
   "outputs": [],
   "source": [
    "rgb_added.sum(axis=0)"
   ]
  },
  {
   "cell_type": "code",
   "execution_count": null,
   "metadata": {
    "collapsed": false
   },
   "outputs": [],
   "source": [
    "np.mean(rgb_added.sum(axis=0))"
   ]
  },
  {
   "cell_type": "code",
   "execution_count": null,
   "metadata": {
    "collapsed": false
   },
   "outputs": [],
   "source": [
    "std = np.std(rgb_added.sum(axis=0))"
   ]
  },
  {
   "cell_type": "code",
   "execution_count": null,
   "metadata": {
    "collapsed": false
   },
   "outputs": [],
   "source": [
    "img.shape"
   ]
  },
  {
   "cell_type": "code",
   "execution_count": null,
   "metadata": {
    "collapsed": false
   },
   "outputs": [],
   "source": [
    "(286-193)*3888"
   ]
  },
  {
   "cell_type": "code",
   "execution_count": null,
   "metadata": {
    "collapsed": false
   },
   "outputs": [],
   "source": [
    "np.where(rgb_added.sum(axis=0) < (286-193)*3888*.05)"
   ]
  },
  {
   "cell_type": "code",
   "execution_count": null,
   "metadata": {
    "collapsed": false,
    "scrolled": false
   },
   "outputs": [],
   "source": [
    "img = imread('sample/16_left.jpeg')\n",
    "img_128 = cv2.resize(img, (128,128))\n",
    "plt.imshow(img)\n",
    "plt.axvline(340)\n",
    "plt.axvline(3579)"
   ]
  },
  {
   "cell_type": "code",
   "execution_count": 9,
   "metadata": {
    "collapsed": true
   },
   "outputs": [],
   "source": [
    "def crop_borders(img_path, threshold=0.01):\n",
    "    img = imread(img_path)\n",
    "\n",
    "    rgb_added = img.sum(axis=2)\n",
    "    mean_px = rgb_added.mean()\n",
    "    std_px = rgb_added.std()\n",
    "    # not using std as it can be very high\n",
    "\n",
    "    col_sum = rgb_added.sum(axis=0)\n",
    "    row_sum = rgb_added.sum(axis=1)\n",
    "\n",
    "    thresh_val = (mean_px)*threshold\n",
    "    col_index = np.where(col_sum > thresh_val*col_sum.shape[0])\n",
    "    row_index = np.where(row_sum > thresh_val*row_sum.shape[0])\n",
    "    hstart, hend = col_index[0][0], col_index[0][-1]\n",
    "    wstart, wend = row_index[0][0], row_index[0][-1]\n",
    "    return img[wstart:wend, hstart:hend]"
   ]
  },
  {
   "cell_type": "code",
   "execution_count": null,
   "metadata": {
    "collapsed": false
   },
   "outputs": [],
   "source": [
    "sample_imgs = filter(lambda x: '.jpeg' in x, os.listdir('sample/'))"
   ]
  },
  {
   "cell_type": "code",
   "execution_count": null,
   "metadata": {
    "collapsed": false
   },
   "outputs": [],
   "source": [
    "sample_imgs_path = map(lambda x: 'sample/' + x, sample_imgs)"
   ]
  },
  {
   "cell_type": "code",
   "execution_count": null,
   "metadata": {
    "collapsed": false
   },
   "outputs": [],
   "source": [
    "fig, ax = plt.subplots(nrows=1, ncols=10, figsize=(50, 50))\n",
    "ax = ax.ravel()\n",
    "for idx in range(10):\n",
    "    ax[idx].imshow(imread(sample_imgs_path[idx]))\n",
    "    ax[idx].set_xticks([])\n",
    "    ax[idx].set_yticks([])"
   ]
  },
  {
   "cell_type": "code",
   "execution_count": null,
   "metadata": {
    "collapsed": false
   },
   "outputs": [],
   "source": [
    "fig, ax = plt.subplots(nrows=1, ncols=10, figsize=(50, 50))\n",
    "ax = ax.ravel()\n",
    "for idx in range(10):\n",
    "    ax[idx].imshow(crop_borders(sample_imgs_path[idx]))\n",
    "    ax[idx].set_xticks([])\n",
    "    ax[idx].set_yticks([])"
   ]
  },
  {
   "cell_type": "code",
   "execution_count": null,
   "metadata": {
    "collapsed": false
   },
   "outputs": [],
   "source": [
    "img = imread('sample/10_left.jpeg')\n",
    "fig, ax = plt.subplots(nrows=1, ncols=2)\n",
    "ax = ax.ravel()\n",
    "ax[0].imshow(img)\n",
    "ax[0].axvline(0)\n",
    "ax[1].imshow(crop_borders('sample/10_left.jpeg', 0.05))"
   ]
  },
  {
   "cell_type": "code",
   "execution_count": null,
   "metadata": {
    "collapsed": false
   },
   "outputs": [],
   "source": [
    "img.shape"
   ]
  },
  {
   "cell_type": "code",
   "execution_count": null,
   "metadata": {
    "collapsed": false
   },
   "outputs": [],
   "source": [
    "col_sum.shape"
   ]
  },
  {
   "cell_type": "code",
   "execution_count": null,
   "metadata": {
    "collapsed": false
   },
   "outputs": [],
   "source": [
    "plt.imshow(img[wstart:wend, hstart:hend])"
   ]
  },
  {
   "cell_type": "code",
   "execution_count": null,
   "metadata": {
    "collapsed": false
   },
   "outputs": [],
   "source": [
    "for item in col_index:\n",
    "    print item"
   ]
  },
  {
   "cell_type": "code",
   "execution_count": null,
   "metadata": {
    "collapsed": true
   },
   "outputs": [],
   "source": []
  },
  {
   "cell_type": "code",
   "execution_count": 7,
   "metadata": {
    "collapsed": false
   },
   "outputs": [],
   "source": [
    "resize_128_dir = \"/home/ubuntu/final_data/train/128\"\n",
    "# Create directory for 128x128 resize\n",
    "try:\n",
    "    os.stat(resize_128_dir)\n",
    "except:\n",
    "    os.makedirs(resize_128_dir)\n",
    "    \n",
    "resize_256_dir = \"/home/ubuntu/final_data/train/256\"\n",
    "# Create directory for 256x256 resize\n",
    "try:\n",
    "    os.stat(resize_256_dir)\n",
    "except:\n",
    "    os.makedirs(resize_256_dir)\n",
    "\n",
    "resize_512_dir = \"/home/ubuntu/final_data/train/512\"\n",
    "# Create directory for 512x512 resize\n",
    "try:\n",
    "    os.stat(resize_512_dir)\n",
    "except:\n",
    "    os.makedirs(resize_512_dir)"
   ]
  },
  {
   "cell_type": "code",
   "execution_count": null,
   "metadata": {
    "collapsed": false
   },
   "outputs": [],
   "source": [
    "# Creating .data files\n",
    "\n",
    "# Check if all the files are jpeg format\n",
    "# if not, skip it\n",
    "# else, apply crop border function on it\n",
    "# when you convert to .data, the .jpeg is till there in the filename\n",
    "# therefore, replace the .jpeg with ''\n",
    "\n",
    "for root, dirs, files in os.walk(rootDir):\n",
    "    for fileName in files:\n",
    "        if not fileName.endswith('.jpeg'):\n",
    "            continue\n",
    "        img = crop_borders(rootDir + '/' + fileName)\n",
    "        fileName = fileName.replace(\".jpeg\", \"\")\n",
    "        img_256 = cv2.resize(img, (256,256))\n",
    "        img_256.tofile(resize_256_dir + '/' + fileName + '.data', sep=\"\", format='uint8')\n"
   ]
  },
  {
   "cell_type": "code",
   "execution_count": null,
   "metadata": {
    "collapsed": true
   },
   "outputs": [],
   "source": [
    "# Creating .data files\n",
    "\n",
    "# Check if all the files are jpeg format\n",
    "# if not, skip it\n",
    "# else, apply crop border function on it\n",
    "# when you convert to .data, the .jpeg is till there in the filename\n",
    "# therefore, replace the .jpeg with ''\n",
    "\n",
    "for root, dirs, files in os.walk(rootDir):\n",
    "    for fileName in files:\n",
    "        if not fileName.endswith('.jpeg'):\n",
    "            continue\n",
    "        img = crop_borders(rootDir + '/' + fileName)\n",
    "        fileName = fileName.replace(\".jpeg\", \"\")\n",
    "        img_512 = cv2.resize(img, (512,512))\n",
    "        img_512.tofile(resize_512_dir + '/' + fileName + '.data', sep=\"\", format='uint8')"
   ]
  },
  {
   "cell_type": "code",
   "execution_count": null,
   "metadata": {
    "collapsed": true
   },
   "outputs": [],
   "source": [
    "# Creating .data files\n",
    "\n",
    "# Check if all the files are jpeg format\n",
    "# if not, skip it\n",
    "# else, apply crop border function on it\n",
    "# when you convert to .data, the .jpeg is till there in the filename\n",
    "# therefore, replace the .jpeg with ''\n",
    "\n",
    "for root, dirs, files in os.walk(rootDir):\n",
    "    for fileName in files:\n",
    "        if not fileName.endswith('.jpeg'):\n",
    "            continue\n",
    "        img = crop_borders(rootDir + '/' + fileName)\n",
    "        fileName = fileName.replace(\".jpeg\", \"\")\n",
    "        img_128 = cv2.resize(img, (128,128))\n",
    "        img_128.tofile(resize_128_dir + '/' + fileName + '.data', sep=\"\", format='uint8') # write it out as binary\n"
   ]
  },
  {
   "cell_type": "code",
   "execution_count": 3,
   "metadata": {
    "collapsed": false
   },
   "outputs": [
    {
     "data": {
      "text/html": [
       "<div>\n",
       "<table border=\"1\" class=\"dataframe\">\n",
       "  <thead>\n",
       "    <tr style=\"text-align: right;\">\n",
       "      <th></th>\n",
       "      <th>image</th>\n",
       "      <th>level</th>\n",
       "    </tr>\n",
       "  </thead>\n",
       "  <tbody>\n",
       "    <tr>\n",
       "      <th>0</th>\n",
       "      <td>10_left</td>\n",
       "      <td>0</td>\n",
       "    </tr>\n",
       "    <tr>\n",
       "      <th>1</th>\n",
       "      <td>10_right</td>\n",
       "      <td>0</td>\n",
       "    </tr>\n",
       "    <tr>\n",
       "      <th>2</th>\n",
       "      <td>13_left</td>\n",
       "      <td>0</td>\n",
       "    </tr>\n",
       "    <tr>\n",
       "      <th>3</th>\n",
       "      <td>13_right</td>\n",
       "      <td>0</td>\n",
       "    </tr>\n",
       "    <tr>\n",
       "      <th>4</th>\n",
       "      <td>15_left</td>\n",
       "      <td>1</td>\n",
       "    </tr>\n",
       "    <tr>\n",
       "      <th>5</th>\n",
       "      <td>15_right</td>\n",
       "      <td>2</td>\n",
       "    </tr>\n",
       "    <tr>\n",
       "      <th>6</th>\n",
       "      <td>16_left</td>\n",
       "      <td>4</td>\n",
       "    </tr>\n",
       "    <tr>\n",
       "      <th>7</th>\n",
       "      <td>16_right</td>\n",
       "      <td>4</td>\n",
       "    </tr>\n",
       "    <tr>\n",
       "      <th>8</th>\n",
       "      <td>17_left</td>\n",
       "      <td>0</td>\n",
       "    </tr>\n",
       "    <tr>\n",
       "      <th>9</th>\n",
       "      <td>17_right</td>\n",
       "      <td>1</td>\n",
       "    </tr>\n",
       "  </tbody>\n",
       "</table>\n",
       "</div>"
      ],
      "text/plain": [
       "      image  level\n",
       "0   10_left      0\n",
       "1  10_right      0\n",
       "2   13_left      0\n",
       "3  13_right      0\n",
       "4   15_left      1\n",
       "5  15_right      2\n",
       "6   16_left      4\n",
       "7  16_right      4\n",
       "8   17_left      0\n",
       "9  17_right      1"
      ]
     },
     "execution_count": 3,
     "metadata": {},
     "output_type": "execute_result"
    }
   ],
   "source": [
    "# read the labels\n",
    "labels = pd.read_csv('/home/ubuntu/data/trainLabels.csv')\n",
    "labels.head(10)"
   ]
  },
  {
   "cell_type": "code",
   "execution_count": 14,
   "metadata": {
    "collapsed": false
   },
   "outputs": [
    {
     "data": {
      "text/plain": [
       "<matplotlib.axes._subplots.AxesSubplot at 0x7f2b68d7dd90>"
      ]
     },
     "execution_count": 14,
     "metadata": {},
     "output_type": "execute_result"
    },
    {
     "data": {
      "image/png": "[encoded data removed]",
      "text/plain": [
       "<matplotlib.figure.Figure at 0x7f2b68d7a250>"
      ]
     },
     "metadata": {},
     "output_type": "display_data"
    }
   ],
   "source": [
    "# class imbalance\n",
    "labels['level'].value_counts().plot(kind='bar')\n",
    "\n",
    "# Notes:\n",
    "# 5 labels present - 0 to 4"
   ]
  },
  {
   "cell_type": "code",
   "execution_count": 4,
   "metadata": {
    "collapsed": false
   },
   "outputs": [
    {
     "name": "stdout",
     "output_type": "stream",
     "text": [
      "(1671, 256, 256, 3)\n",
      "(1671, 5)\n",
      "(1122, 256, 256, 3)\n",
      "(1122, 5)\n"
     ]
    }
   ],
   "source": [
    "x_train_list = []\n",
    "y_train_list = []\n",
    "x_val_list = []\n",
    "y_val_list = []\n",
    "\n",
    "train_percent = 0.6 # 60% train\n",
    "Image_File_Path = resize_256_dir # Change this for 128 or 512\n",
    "for index, row in labels.iterrows():\n",
    "    try:\n",
    "        img_data = np.fromfile(Image_File_Path + '/' + row['image'] + '.data', dtype='uint8', sep=\"\")\n",
    "    except:\n",
    "        continue\n",
    "\n",
    "    img_data = img_data.reshape([256, 256, 3])\n",
    "    \n",
    "    rand_no = np.random.rand()\n",
    "    if rand_no <= train_percent:\n",
    "        x_list = x_train_list\n",
    "        y_list = y_train_list\n",
    "    else:\n",
    "        x_list = x_val_list\n",
    "        y_list = y_val_list\n",
    "        \n",
    "    if row['level'] == 0:\n",
    "        y_list.append([1, 0, 0, 0, 0])\n",
    "    elif row['level'] == 1:\n",
    "        y_list.append([0, 1, 0, 0, 0])\n",
    "    elif row['level'] == 2:\n",
    "        y_list.append([0, 0, 1, 0, 0])\n",
    "    elif row['level'] == 3:\n",
    "        y_list.append([0, 0, 0, 1, 0])\n",
    "    elif row['level'] == 4:\n",
    "        y_list.append([0, 0, 0, 0, 1])\n",
    "    else:\n",
    "        continue\n",
    "    \n",
    "    x_list.append(img_data)\n",
    "\n",
    "x_train = np.array(x_train_list)\n",
    "y_train = np.array(y_train_list)\n",
    "print x_train.shape\n",
    "print y_train.shape\n",
    "\n",
    "x_val = np.array(x_val_list)\n",
    "y_val = np.array(y_val_list)\n",
    "print x_val.shape\n",
    "print y_val.shape\n",
    "\n"
   ]
  },
  {
   "cell_type": "code",
   "execution_count": 5,
   "metadata": {
    "collapsed": true
   },
   "outputs": [],
   "source": [
    "Use_Model = \"VGGNet\" # \"ResNet\" or \"VGGNet\""
   ]
  },
  {
   "cell_type": "code",
   "execution_count": 6,
   "metadata": {
    "collapsed": true
   },
   "outputs": [],
   "source": [
    "# Function for VGGNet\n",
    "def VGGNet_model(input_shape, num_classes, use_sgd=False):\n",
    "    model_vgg19_conv = VGG19(weights='imagenet', include_top=False)\n",
    "    model_vgg19_conv.summary()\n",
    "    \n",
    "#    for layer in model_vgg16_conv.layers:\n",
    "#        layer.trainable = False\n",
    "\n",
    "    # Create your own input format\n",
    "    input = Input(shape=input_shape, name = 'image_input')\n",
    "    \n",
    "    # Use the generated model \n",
    "    output_vgg19_conv = model_vgg19_conv(input)\n",
    "  \n",
    "    \n",
    "    # Add the fully-connected layers \n",
    "    x = Flatten(name='flatten')(output_vgg19_conv)\n",
    "    x = Dense(4096, activation='relu', name='fc1')(x)\n",
    "    x = Dense(4096, activation='relu', name='fc2')(x)\n",
    "    x = Dense(1000, activation='relu', name='fc3')(x)\n",
    "\n",
    "    x = Dense(num_classes, activation='softmax', name='predictions')(x)\n",
    "    \n",
    "    # Create model \n",
    "    AD_model = Model(input=input, output=x)\n",
    "    AD_model.summary()\n",
    "\n",
    "    # Compile model\n",
    "    if not use_sgd:\n",
    "        AD_model.compile(loss='categorical_crossentropy', optimizer='adam', metrics=['accuracy'])\n",
    "        print \"using adam optimizer\"\n",
    "    else:\n",
    "        sgd = SGD(lr=0.01, momentum=0.8, decay=0.000001, nesterov=False)\n",
    "        AD_model.compile(loss='binary_crossentropy', optimizer=sgd, metrics=[ 'accuracy' ])\n",
    "        print \"using SGD optimizer\"\n",
    "    \n",
    "    return AD_model"
   ]
  },
  {
   "cell_type": "code",
   "execution_count": 7,
   "metadata": {
    "collapsed": true
   },
   "outputs": [],
   "source": [
    "# Function for resnet\n",
    "def ResNet_model(input_shape, num_classes):\n",
    "    model_resnet_conv = ResNet50(weights='imagenet', include_top=False)\n",
    "    \n",
    "#    for layer in model_vgg16_conv.layers:\n",
    "#        layer.trainable = False\n",
    "\n",
    "    # Create your own input format\n",
    "    input = Input(shape=input_shape, name = 'image_input')\n",
    "    \n",
    "    # Use the generated model \n",
    "    output_resnet_conv = model_resnet_conv(input)\n",
    "    \n",
    "    # Add the fully-connected layers \n",
    "    x = Flatten(name='flatten')(output_resnet_conv)\n",
    "    x = Dense(4096, activation='relu', name='fc1')(x)\n",
    "    x = Dense(4096, activation='relu', name='fc2')(x)\n",
    "\n",
    "    x = Dense(num_classes, activation='softmax', name='predictions')(x)\n",
    "    \n",
    "    # Create model \n",
    "    AD_model = Model(input=input, output=x)\n",
    "    AD_model.summary()\n",
    "\n",
    "    # Compile model\n",
    "    AD_model.compile(loss='categorical_crossentropy', optimizer='adam', metrics=['accuracy'])\n",
    "    \n",
    "    return AD_model"
   ]
  },
  {
   "cell_type": "code",
   "execution_count": 8,
   "metadata": {
    "collapsed": false
   },
   "outputs": [
    {
     "name": "stdout",
     "output_type": "stream",
     "text": [
      "Using VGGNet\n",
      "_________________________________________________________________\n",
      "Layer (type)                 Output Shape              Param #   \n",
      "=================================================================\n",
      "input_1 (InputLayer)         (None, None, None, 3)     0         \n",
      "_________________________________________________________________\n",
      "block1_conv1 (Conv2D)        (None, None, None, 64)    1792      \n",
      "_________________________________________________________________\n",
      "block1_conv2 (Conv2D)        (None, None, None, 64)    36928     \n",
      "_________________________________________________________________\n",
      "block1_pool (MaxPooling2D)   (None, None, None, 64)    0         \n",
      "_________________________________________________________________\n",
      "block2_conv1 (Conv2D)        (None, None, None, 128)   73856     \n",
      "_________________________________________________________________\n",
      "block2_conv2 (Conv2D)        (None, None, None, 128)   147584    \n",
      "_________________________________________________________________\n",
      "block2_pool (MaxPooling2D)   (None, None, None, 128)   0         \n",
      "_________________________________________________________________\n",
      "block3_conv1 (Conv2D)        (None, None, None, 256)   295168    \n",
      "_________________________________________________________________\n",
      "block3_conv2 (Conv2D)        (None, None, None, 256)   590080    \n",
      "_________________________________________________________________\n",
      "block3_conv3 (Conv2D)        (None, None, None, 256)   590080    \n",
      "_________________________________________________________________\n",
      "block3_conv4 (Conv2D)        (None, None, None, 256)   590080    \n",
      "_________________________________________________________________\n",
      "block3_pool (MaxPooling2D)   (None, None, None, 256)   0         \n",
      "_________________________________________________________________\n",
      "block4_conv1 (Conv2D)        (None, None, None, 512)   1180160   \n",
      "_________________________________________________________________\n",
      "block4_conv2 (Conv2D)        (None, None, None, 512)   2359808   \n",
      "_________________________________________________________________\n",
      "block4_conv3 (Conv2D)        (None, None, None, 512)   2359808   \n",
      "_________________________________________________________________\n",
      "block4_conv4 (Conv2D)        (None, None, None, 512)   2359808   \n",
      "_________________________________________________________________\n",
      "block4_pool (MaxPooling2D)   (None, None, None, 512)   0         \n",
      "_________________________________________________________________\n",
      "block5_conv1 (Conv2D)        (None, None, None, 512)   2359808   \n",
      "_________________________________________________________________\n",
      "block5_conv2 (Conv2D)        (None, None, None, 512)   2359808   \n",
      "_________________________________________________________________\n",
      "block5_conv3 (Conv2D)        (None, None, None, 512)   2359808   \n",
      "_________________________________________________________________\n",
      "block5_conv4 (Conv2D)        (None, None, None, 512)   2359808   \n",
      "_________________________________________________________________\n",
      "block5_pool (MaxPooling2D)   (None, None, None, 512)   0         \n",
      "=================================================================\n",
      "Total params: 20,024,384\n",
      "Trainable params: 20,024,384\n",
      "Non-trainable params: 0\n",
      "_________________________________________________________________\n",
      "_________________________________________________________________\n",
      "Layer (type)                 Output Shape              Param #   \n",
      "=================================================================\n",
      "image_input (InputLayer)     (None, 256, 256, 3)       0         \n",
      "_________________________________________________________________\n",
      "vgg19 (Model)                multiple                  20024384  \n",
      "_________________________________________________________________\n",
      "flatten (Flatten)            (None, 32768)             0         \n",
      "_________________________________________________________________\n",
      "fc1 (Dense)                  (None, 4096)              134221824 \n",
      "_________________________________________________________________\n",
      "fc2 (Dense)                  (None, 4096)              16781312  \n",
      "_________________________________________________________________\n",
      "fc3 (Dense)                  (None, 1000)              4097000   \n",
      "_________________________________________________________________\n",
      "predictions (Dense)          (None, 5)                 5005      \n",
      "=================================================================\n",
      "Total params: 175,129,525\n",
      "Trainable params: 175,129,525\n",
      "Non-trainable params: 0\n",
      "_________________________________________________________________\n",
      "using SGD optimizer\n",
      "_________________________________________________________________\n",
      "Layer (type)                 Output Shape              Param #   \n",
      "=================================================================\n",
      "image_input (InputLayer)     (None, 256, 256, 3)       0         \n",
      "_________________________________________________________________\n",
      "vgg19 (Model)                multiple                  20024384  \n",
      "_________________________________________________________________\n",
      "flatten (Flatten)            (None, 32768)             0         \n",
      "_________________________________________________________________\n",
      "fc1 (Dense)                  (None, 4096)              134221824 \n",
      "_________________________________________________________________\n",
      "fc2 (Dense)                  (None, 4096)              16781312  \n",
      "_________________________________________________________________\n",
      "fc3 (Dense)                  (None, 1000)              4097000   \n",
      "_________________________________________________________________\n",
      "predictions (Dense)          (None, 5)                 5005      \n",
      "=================================================================\n",
      "Total params: 175,129,525\n",
      "Trainable params: 175,129,525\n",
      "Non-trainable params: 0\n",
      "_________________________________________________________________\n"
     ]
    },
    {
     "name": "stderr",
     "output_type": "stream",
     "text": [
      "/home/ubuntu/anaconda2/lib/python2.7/site-packages/ipykernel/__main__.py:25: UserWarning: Update your `Model` call to the Keras 2 API: `Model(outputs=Tensor(\"pr..., inputs=Tensor(\"im...)`\n"
     ]
    }
   ],
   "source": [
    "if Use_Model == \"ResNet\":\n",
    "    print \"Using ResNet\"\n",
    "    my_model = ResNet_model((256,256,3), 5, use_sgd=True)\n",
    "else:\n",
    "    print \"Using VGGNet\"\n",
    "    my_model= VGGNet_model((256,256,3), 5, use_sgd=True)\n",
    "my_model.summary()"
   ]
  },
  {
   "cell_type": "code",
   "execution_count": null,
   "metadata": {
    "collapsed": false
   },
   "outputs": [
    {
     "name": "stdout",
     "output_type": "stream",
     "text": [
      "Train on 1671 samples, validate on 1122 samples\n",
      "Epoch 1/1\n",
      " 250/1671 [===>..........................] - ETA: 3152s - loss: 3.6671 - acc: 0.7536"
     ]
    }
   ],
   "source": [
    "# Fit the model\n",
    "my_model.fit(x_train, y_train, epochs=1, batch_size=50, validation_data=(x_val, y_val), verbose=1)"
   ]
  },
  {
   "cell_type": "code",
   "execution_count": null,
   "metadata": {
    "collapsed": true
   },
   "outputs": [],
   "source": [
    "# Final evaluation of the model\n",
    "#scores = my_model.evaluate(x_test, y_test, verbose=0)\n",
    "#print(\"CNN Error: %.2f%%\" % (100-scores[1]*100))"
   ]
  }
 ],
 "metadata": {
  "anaconda-cloud": {},
  "kernelspec": {
   "display_name": "Python [default]",
   "language": "python",
   "name": "python2"
  },
  "language_info": {
   "codemirror_mode": {
    "name": "ipython",
    "version": 2
   },
   "file_extension": ".py",
   "mimetype": "text/x-python",
   "name": "python",
   "nbconvert_exporter": "python",
   "pygments_lexer": "ipython2",
   "version": "2.7.12"
  }
 },
 "nbformat": 4,
 "nbformat_minor": 1
}
